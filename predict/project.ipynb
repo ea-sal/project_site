{
 "cells": [
  {
   "cell_type": "code",
   "execution_count": 1,
   "metadata": {
    "collapsed": true
   },
   "outputs": [],
   "source": [
    "import pandas as pd\n",
    "import numpy as np\n",
    "import xgboost as xgb\n",
    "from sklearn.model_selection import train_test_split\n",
    "from sklearn.linear_model import LogisticRegression\n",
    "from sklearn.preprocessing import MinMaxScaler\n",
    "from sklearn.model_selection import GridSearchCV\n",
    "import pickle"
   ]
  },
  {
   "cell_type": "code",
   "execution_count": 2,
   "metadata": {},
   "outputs": [
    {
     "name": "stderr",
     "output_type": "stream",
     "text": [
      "/Users/easaltykova/anaconda3/lib/python3.6/site-packages/IPython/core/interactiveshell.py:2698: DtypeWarning: Columns (52) have mixed types. Specify dtype option on import or set low_memory=False.\n",
      "  interactivity=interactivity, compiler=compiler, result=result)\n"
     ]
    }
   ],
   "source": [
    "matches = pd.read_csv(\"matches.csv\")\n",
    "participants = pd.read_csv(\"participants.csv\")\n",
    "stats1 = pd.read_csv(\"stats1.csv\")\n",
    "stats2 = pd.read_csv(\"stats2.csv\")\n",
    "stats = pd.concat([stats1,stats2])\n"
   ]
  },
  {
   "cell_type": "code",
   "execution_count": 3,
   "metadata": {},
   "outputs": [
    {
     "name": "stdout",
     "output_type": "stream",
     "text": [
      "role\n",
      "position\n",
      "version\n",
      "platformid\n"
     ]
    }
   ],
   "source": [
    "# merge into a single DataFrame\n",
    "a = pd.merge(participants, matches, left_on=\"matchid\", right_on=\"id\")\n",
    "allstats_orig = pd.merge(a, stats, left_on=\"matchid\", right_on=\"id\")\n",
    "allstats = allstats_orig.copy()\n",
    "\n",
    "# drop games that lasted less than 10 minutes\n",
    "allstats = allstats.loc[allstats[\"duration\"] >= 10*60,:]\n",
    "\n",
    "# leave only s8 games\n",
    "allstats = allstats.loc[allstats[\"seasonid\"] == 8,:]\n",
    "\n",
    "# Convert string-based categories to numeric values\n",
    "cat_cols = [\"role\", \"position\", \"version\", \"platformid\"]\n",
    "for c in cat_cols:\n",
    "    allstats[c] = allstats[c].astype('category')\n",
    "    allstats[c] = allstats[c].cat.codes\n",
    "    print(c)\n",
    "allstats[\"wardsbought\"] = allstats[\"wardsbought\"].astype(np.int32)\n",
    "\n",
    "# filling missing values\n",
    "allstats = allstats.fillna(0)\n",
    "\n",
    "X = allstats.drop([\"win\", \"id_x\", \"matchid\", \"id_y\", \"platformid\", \"seasonid\", \"creation\", \"version\", \"id\", \"role\", \"position\"], axis=1)\n",
    "y = allstats[\"win\"]\n",
    "\n",
    "# convert all features we want to consider as rates\n",
    "rate_features = [\n",
    "    \"kills\", \"deaths\", \"assists\", \"killingsprees\", \"doublekills\",\n",
    "    \"triplekills\", \"quadrakills\", \"pentakills\", \"legendarykills\",\n",
    "    \"totdmgdealt\", \"magicdmgdealt\", \"physicaldmgdealt\", \"truedmgdealt\",\n",
    "    \"totdmgtochamp\", \"magicdmgtochamp\", \"physdmgtochamp\", \"truedmgtochamp\",\n",
    "    \"totheal\", \"totunitshealed\", \"dmgtoobj\", \"timecc\", \"totdmgtaken\",\n",
    "    \"magicdmgtaken\" , \"physdmgtaken\", \"truedmgtaken\", \"goldearned\", \"goldspent\",\n",
    "    \"totminionskilled\", \"neutralminionskilled\", \"ownjunglekills\",\n",
    "    \"enemyjunglekills\", \"totcctimedealt\", \"pinksbought\", \"wardsbought\",\n",
    "    \"wardsplaced\", \"wardskilled\"\n",
    "]\n",
    "for feature_name in rate_features:\n",
    "    X[feature_name] /= X[\"duration\"] / 60 # per minute rate\n",
    "\n",
    "# convert to fraction of game\n",
    "X[\"longesttimespentliving\"] /= X[\"duration\"]\n",
    "\n",
    "# define friendly names for the features\n",
    "full_names = {\n",
    "    \"kills\": \"Kills per min.\",\n",
    "    \"deaths\": \"Deaths per min.\",\n",
    "    \"assists\": \"Assists per min.\",\n",
    "    \"killingsprees\": \"Killing sprees per min.\",\n",
    "    \"longesttimespentliving\": \"Longest time living as % of game\",\n",
    "    \"doublekills\": \"Double kills per min.\",\n",
    "    \"triplekills\": \"Triple kills per min.\",\n",
    "    \"quadrakills\": \"Quadra kills per min.\",\n",
    "    \"pentakills\": \"Penta kills per min.\",\n",
    "    \"legendarykills\": \"Legendary kills per min.\",\n",
    "    \"totdmgdealt\": \"Total damage dealt per min.\",\n",
    "    \"magicdmgdealt\": \"Magic damage dealt per min.\",\n",
    "    \"physicaldmgdealt\": \"Physical damage dealt per min.\",\n",
    "    \"truedmgdealt\": \"True damage dealt per min.\",\n",
    "    \"totdmgtochamp\": \"Total damage to champions per min.\",\n",
    "    \"magicdmgtochamp\": \"Magic damage to champions per min.\",\n",
    "    \"physdmgtochamp\": \"Physical damage to champions per min.\",\n",
    "    \"truedmgtochamp\": \"True damage to champions per min.\",\n",
    "    \"totheal\": \"Total healing per min.\",\n",
    "    \"totunitshealed\": \"Total units healed per min.\",\n",
    "    \"dmgtoobj\": \"Damage to objects per min.\",\n",
    "    \"timecc\": \"Time spent with crown control per min.\",\n",
    "    \"totdmgtaken\": \"Total damage taken per min.\",\n",
    "    \"magicdmgtaken\": \"Magic damage taken per min.\",\n",
    "    \"physdmgtaken\": \"Physical damage taken per min.\",\n",
    "    \"truedmgtaken\": \"True damage taken per min.\",\n",
    "    \"goldearned\": \"Gold earned per min.\",\n",
    "    \"goldspent\": \"Gold spent per min.\",\n",
    "    \"totminionskilled\": \"Total minions killed per min.\",\n",
    "    \"neutralminionskilled\": \"Neutral minions killed per min.\",\n",
    "    \"ownjunglekills\": \"Own jungle kills per min.\",\n",
    "    \"enemyjunglekills\": \"Enemy jungle kills per min.\",\n",
    "    \"totcctimedealt\": \"Total crown control time dealt per min.\",\n",
    "    \"pinksbought\": \"Pink wards bought per min.\",\n",
    "    \"wardsbought\": \"Wards bought per min.\",\n",
    "    \"wardsplaced\": \"Wards placed per min.\",\n",
    "    \"turretkills\": \"# of turret kills\",\n",
    "    \"inhibkills\": \"# of inhibitor kills\",\n",
    "    \"dmgtoturrets\": \"Damage to turrets\"\n",
    "}\n",
    "feature_names = [full_names.get(n, n) for n in X.columns]\n",
    "X.columns = feature_names"
   ]
  },
  {
   "cell_type": "code",
   "execution_count": 4,
   "metadata": {
    "collapsed": true
   },
   "outputs": [],
   "source": [
    "#splitting data on train and test\n",
    "x_train, x_test, y_train, y_test = train_test_split(X, y, test_size=0.33, random_state=42)\n",
    "\n",
    "#scaling \n",
    "#scaler = MinMaxScaler()\n",
    "#x_train = scaler.fit_transform(x_train.values)\n",
    "#x_test = scaler.transform(x_test.values)"
   ]
  },
  {
   "cell_type": "code",
   "execution_count": null,
   "metadata": {
    "collapsed": true
   },
   "outputs": [],
   "source": [
    "#parameters optimization \n",
    "log_reg = LogisticRegression()\n",
    "penalty = ['l1', 'l2']\n",
    "C = np.logspace(0, 3, 5)\n",
    "hyperparameters = dict(C=C, penalty=penalty)\n",
    "clf = GridSearchCV(log_reg, hyperparameters, cv=5, verbose=0)\n",
    "best_model = clf.fit(X, y)\n",
    "print('Best Penalty:', best_model.best_estimator_.get_params()['penalty'])\n",
    "print('Best C:', best_model.best_estimator_.get_params()['C'])"
   ]
  },
  {
   "cell_type": "code",
   "execution_count": 108,
   "metadata": {},
   "outputs": [
    {
     "name": "stdout",
     "output_type": "stream",
     "text": [
      "Logistic Regression win/lose Accuracy Score: 0.8721519841721823\n"
     ]
    }
   ],
   "source": [
    "log_reg = LogisticRegression()\n",
    "log_reg.fit(x_train, y_train)\n",
    "acc_score = log_reg.score(x_test, y_test)\n",
    "print(\"Logistic Regression win/lose Accuracy Score: {}\".format(acc_score))"
   ]
  },
  {
   "cell_type": "code",
   "execution_count": 109,
   "metadata": {
    "collapsed": true
   },
   "outputs": [],
   "source": [
    "predictors = [[3, 24, 4, 11, 196141822, 400, 1082, 3077, 2031, 3111, 1419, 1043, 1037, 3340, 2, 5, 3, 0, 1, 0, 454, 0, 0, 0, 0, 0, 98250, 21110, 71036, 6103, 0, 3187, 903, 1927, 356, 4088, 1, 10150, 2320, 0, 8, 3, 16882, 4198, 11977, 707, 7147, 7075, 0, 0, 58, 70, 56, 0, 464, 12, 0, 0, 4, 0, 0]]\n",
    "#a = log_reg.predict(predictors)\n",
    "#print(a)"
   ]
  },
  {
   "cell_type": "code",
   "execution_count": 110,
   "metadata": {
    "collapsed": true
   },
   "outputs": [],
   "source": [
    "pickle.dump(log_reg, open(\"model.pkl\",\"wb\"))"
   ]
  },
  {
   "cell_type": "code",
   "execution_count": 111,
   "metadata": {},
   "outputs": [
    {
     "name": "stdout",
     "output_type": "stream",
     "text": [
      "Random Forest Classifier:\n",
      "\n",
      "Random Forest Classifier win/lose Accuracy Score: 0.8534387115009007\n"
     ]
    }
   ],
   "source": [
    "from sklearn.ensemble import RandomForestClassifier\n",
    "rfc = RandomForestClassifier(max_depth=10,random_state=42)\n",
    "rfc.fit(x_train, y_train)\n",
    "acc_score = rfc.score(x_test, y_test)\n",
    "\n",
    "print(\"Random Forest Classifier win/lose Accuracy Score: {}\".format(acc_score))"
   ]
  },
  {
   "cell_type": "code",
   "execution_count": 66,
   "metadata": {},
   "outputs": [
    {
     "data": {
      "text/plain": [
       "['id_x',\n",
       " 'matchid',\n",
       " 'player',\n",
       " 'championid',\n",
       " 'ss1',\n",
       " 'ss2',\n",
       " 'role',\n",
       " 'position',\n",
       " 'id_y',\n",
       " 'gameid',\n",
       " 'platformid',\n",
       " 'queueid',\n",
       " 'seasonid',\n",
       " 'duration',\n",
       " 'creation',\n",
       " 'version',\n",
       " 'id',\n",
       " 'item1',\n",
       " 'item2',\n",
       " 'item3',\n",
       " 'item4',\n",
       " 'item5',\n",
       " 'item6',\n",
       " 'trinket',\n",
       " 'Kills per min.',\n",
       " 'Deaths per min.',\n",
       " 'Assists per min.',\n",
       " 'largestkillingspree',\n",
       " 'largestmultikill',\n",
       " 'Killing sprees per min.',\n",
       " 'Longest time living as % of game',\n",
       " 'Double kills per min.',\n",
       " 'Triple kills per min.',\n",
       " 'Quadra kills per min.',\n",
       " 'Penta kills per min.',\n",
       " 'Legendary kills per min.',\n",
       " 'Total damage dealt per min.',\n",
       " 'Magic damage dealt per min.',\n",
       " 'Physical damage dealt per min.',\n",
       " 'True damage dealt per min.',\n",
       " 'largestcrit',\n",
       " 'Total damage to champions per min.',\n",
       " 'Magic damage to champions per min.',\n",
       " 'Physical damage to champions per min.',\n",
       " 'True damage to champions per min.',\n",
       " 'Total healing per min.',\n",
       " 'Total units healed per min.',\n",
       " 'dmgselfmit',\n",
       " 'Damage to objects per min.',\n",
       " 'Damage to turrets',\n",
       " 'visionscore',\n",
       " 'Time spent with crown control per min.',\n",
       " 'Total damage taken per min.',\n",
       " 'Magic damage taken per min.',\n",
       " 'Physical damage taken per min.',\n",
       " 'True damage taken per min.',\n",
       " 'Gold earned per min.',\n",
       " 'Gold spent per min.',\n",
       " '# of turret kills',\n",
       " '# of inhibitor kills',\n",
       " 'Total minions killed per min.',\n",
       " 'Neutral minions killed per min.',\n",
       " 'Own jungle kills per min.',\n",
       " 'Enemy jungle kills per min.',\n",
       " 'Total crown control time dealt per min.',\n",
       " 'champlvl',\n",
       " 'Pink wards bought per min.',\n",
       " 'Wards bought per min.',\n",
       " 'Wards placed per min.',\n",
       " 'wardskilled',\n",
       " 'firstblood']"
      ]
     },
     "execution_count": 66,
     "metadata": {},
     "output_type": "execute_result"
    }
   ],
   "source": [
    "list(X)"
   ]
  },
  {
   "cell_type": "code",
   "execution_count": 68,
   "metadata": {},
   "outputs": [
    {
     "data": {
      "text/plain": [
       "0                9\n",
       "1               10\n",
       "2               11\n",
       "3               12\n",
       "4               13\n",
       "5               14\n",
       "6               15\n",
       "7               16\n",
       "8               17\n",
       "9               18\n",
       "10              19\n",
       "11              20\n",
       "12              21\n",
       "13              22\n",
       "14              23\n",
       "15              24\n",
       "16              25\n",
       "17              26\n",
       "18              27\n",
       "19              28\n",
       "20              29\n",
       "21              30\n",
       "22              31\n",
       "23              32\n",
       "24              33\n",
       "25              34\n",
       "26              35\n",
       "27              36\n",
       "28              37\n",
       "29              38\n",
       "            ...   \n",
       "1579380    1865575\n",
       "1579381    1865576\n",
       "1579382    1865577\n",
       "1579383    1865578\n",
       "1579384    1865579\n",
       "1579385    1865580\n",
       "1579386    1865581\n",
       "1579387    1865582\n",
       "1579388    1865583\n",
       "1579389    1865584\n",
       "1579390    1865585\n",
       "1579391    1865586\n",
       "1579392    1865587\n",
       "1579393    1865588\n",
       "1579394    1865589\n",
       "1579395    1865590\n",
       "1579396    1865591\n",
       "1579397    1865592\n",
       "1579398    1865593\n",
       "1579399    1865594\n",
       "1579400    1865595\n",
       "1579401    1865596\n",
       "1579402    1865597\n",
       "1579403    1865598\n",
       "1579404    1865599\n",
       "1579405    1865600\n",
       "1579406    1865601\n",
       "1579407    1865602\n",
       "1579408    1865603\n",
       "1579409    1865604\n",
       "Name: id_x, Length: 1579410, dtype: int64"
      ]
     },
     "execution_count": 68,
     "metadata": {},
     "output_type": "execute_result"
    }
   ],
   "source": [
    "allstats_orig.id_x"
   ]
  },
  {
   "cell_type": "code",
   "execution_count": null,
   "metadata": {
    "collapsed": true
   },
   "outputs": [],
   "source": []
  }
 ],
 "metadata": {
  "kernelspec": {
   "display_name": "Python 3",
   "language": "python",
   "name": "python3"
  },
  "language_info": {
   "codemirror_mode": {
    "name": "ipython",
    "version": 3
   },
   "file_extension": ".py",
   "mimetype": "text/x-python",
   "name": "python",
   "nbconvert_exporter": "python",
   "pygments_lexer": "ipython3",
   "version": "3.6.3"
  }
 },
 "nbformat": 4,
 "nbformat_minor": 2
}
